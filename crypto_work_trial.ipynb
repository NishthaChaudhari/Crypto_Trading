%load_ext dotenv
%dotenv
import sys
sys.path.append('connectors/exchange_connector.py')
sys.path.append('utils/best_across_exchanges.py')
sys.path.append('utils/symbol_mapper.py')
sys.path.append('data_pipeline/order_book_pipeline.py')
import os
import ccxt
import pandas as pd
import boto3
import time
import random
from datetime import datetime
from connectors.exchange_connector import ExchangeConnector
from utils.best_across_exchanges import get_best_bid_ask_across_exchanges
from utils.symbol_mapper import SymbolMapper
from data_pipeline.order_book_pipeline import OrderBookPipeline

# Initialize exchanges
exchanges = []
for ex_name in ['bitmart', 'binance', 'deribit', 'kucoin', 'okx']:
    api_key = os.getenv(f"{ex_name.upper()}_API_KEY")
    api_secret = os.getenv(f"{ex_name.upper()}_API_SECRET")
    try:
        exchanges.append(ExchangeConnector(ex_name, api_key, api_secret))
        print(f"Connected to {ex_name}")
    except Exception as e:
        print(f"Failed to connect to {ex_name}: {str(e)}")

# Test symbol
SYMBOL = 'BTC/USDT'  # Use 'BTC/USDT:USDT' for perps on Binance, OKX, KuCoin; 'BTC-PERPETUAL' for Deribit
