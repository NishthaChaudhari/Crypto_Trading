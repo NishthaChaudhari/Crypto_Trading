## Setup and Imports
Load environment variables, libraries, and initialize exchange connectors.

%load_ext dotenv
%dotenv
import sys
sys.path.append('connectors/exchange_connector.py')
sys.path.append('utils/symbol_mapper.py')
sys.path.append('utils/best_across_exchanges.py')
sys.path.append('data_pipeline/order_book_pipeline.py')
import os
import ccxt
import pandas as pd
import boto3
import time
import random
from datetime import datetime
from connectors.exchange_connector import ExchangeConnector
from utils.best_across_exchanges import get_best_bid_ask_across_exchanges
from utils.symbol_mapper import SymbolMapper
from data_pipeline.order_book_pipeline import OrderBookPipeline

# Initialize exchanges
exchanges = []
for ex_name in ['bitmart', 'binance', 'deribit', 'kucoin', 'okx']:
    api_key = os.getenv(f"{ex_name.upper()}_API_KEY")
    api_secret = os.getenv(f"{ex_name.upper()}_API_SECRET")
    try:
        exchanges.append(ExchangeConnector(ex_name, api_key, api_secret))
        print(f"Connected to {ex_name}")
    except Exception as e:
        print(f"Failed to connect to {ex_name}: {str(e)}")

# Test symbol
SYMBOL = 'BTC/USDT'  # Use 'BTC/USDT:USDT' for perps on Binance, OKX, KuCoin; 'BTC-PERPETUAL' for Deribit



## Task 1: Modular Exchange Data Connectors
This task fetches market data: best bid/ask, L2 order book, funding rates, and price impact for a $50,000 trade. We test on one exchange (Binance) and across all exchanges for best bid/ask.

# Best Bid/Ask for each exchange
print("Best Bid/Ask Prices:")
for conn in exchanges:
    try:
        ba = conn.get_best_bid_ask(SYMBOL)
        print(f"{conn.exchange_name}: Bid={ba['bid']:.2f}, Ask={ba['ask']:.2f}")
    except Exception as e:
        print(f"{conn.exchange_name} error: {str(e)}")

# Best Bid/Ask across all exchanges
try:
    best_ba = get_best_bid_ask_across_exchanges(exchanges, SYMBOL)
    print(f"\nBest across all exchanges: Bid={best_ba['bid']:.2f}, Ask={best_ba['ask']:.2f}")
except Exception as e:
    print(f"Best bid/ask error: {str(e)}")

# L2 Order Book (using Binance)
conn = exchanges[1]  # Binance
try:
    order_book = conn.get_order_book(SYMBOL, limit=10)
    print(f"\nOrder Book for {conn.exchange_name} (top 5 bids/asks):")
    print("Bids:")
    display(pd.DataFrame(order_book['bids'][:5], columns=['Price', 'Quantity']))
    print("Asks:")
    display(pd.DataFrame(order_book['asks'][:5], columns=['Price', 'Quantity']))
except Exception as e:
    print(f"Order book error: {str(e)}")

# Funding Rates (using Binance)
try:
    rates = conn.get_funding_rates(SYMBOL)
    print(f"\nFunding Rates for {SYMBOL} on {conn.exchange_name}:")
    print(f"Current: {rates['current']:.6f}, Predicted: {rates['predicted'] or 'N/A'}")
    hist_rates = conn.get_historical_funding_rates(SYMBOL, limit=5)
    print("\nHistorical Funding Rates:")
    display(pd.DataFrame(hist_rates)[['timestamp', 'fundingRate']])
    apr = conn.calculate_apr_from_funding_rate(rates['current'], payout_frequency_hours=8)
    print(f"Estimated APR: {apr:.2f}%")
except Exception as e:
    print(f"Funding rate error: {str(e)}")

# Price Impact (buy $50,000 on Binance)
try:
    impact = conn.calculate_price_impact(SYMBOL, 'buy', 50000)
    print(f"\nPrice Impact for {SYMBOL} (buy $50,000) on {conn.exchange_name}:")
    print(f"Average Price: {impact['average_price']:.2f}, Impact: {impact['impact']:.2f}%")
except Exception as e:
    print(f"Price impact error: {str(e)}")



## Task 2: Trade Execution & Order Management
This task places, cancels, and tracks orders, plus tests placing/cancelling 200 orders in 5 minutes. Requires API keys; use a testnet (e.g., Binance Futures Testnet) for safety.

# Example: Place and cancel a single order (Binance)
conn = exchanges[1]  # Binance
try:
    ba = conn.get_best_bid_ask(SYMBOL)
    price = ba['bid'] * 0.99  # Slightly below bid for limit order
    order_id = conn.place_order(SYMBOL, 'buy', 0.01, 'LIMIT', price)
    print(f"Placed order: {order_id}")
    status = conn.get_order_status(order_id, SYMBOL)
    print(f"Order status: {status}")
    if conn.cancel_order(order_id, SYMBOL):
        print("Order cancelled successfully")
except Exception as e:
    print(f"Order error: {str(e)} (API keys required for trading)")

# Performance Test
def performance_test(conn, symbol, num_orders=200, window_minutes=5):
    start_time = time.time()
    end_time = start_time + window_minutes * 60
    placement_success = 0
    cancellation_success = 0
    placement_latencies = []
    cancellation_latencies = []
    for i in range(num_orders):
        if time.time() > end_time:
            print(f"Stopped after {i} orders due to time limit")
            break
        order_type = random.choice(['LIMIT', 'MARKET'])
        side = random.choice(['buy', 'sell'])
        quantity = random.uniform(0.01, 0.1)  # Small quantity for testing
        price = None
        if order_type == 'LIMIT':
            ba = conn.get_best_bid_ask(symbol)
            price = ba['bid'] * (1.01 if side == 'buy' else 0.99)
        try:
            place_start = time.time()
            order_id = conn.place_order(symbol, side, quantity, order_type, price)
            placement_latencies.append(time.time() - place_start)
            placement_success += 1
            cancel_start = time.time()
            success = conn.cancel_order(order_id, symbol)
            cancellation_latencies.append(time.time() - cancel_start)
            if success:
                cancellation_success += 1
        except Exception as e:
            print(f"Order {i} error: {str(e)}")
        time.sleep(random.uniform(0.1, 1.0))  # Avoid hitting rate limits
    metrics = {
        'Placement Success Rate (%)': (placement_success / num_orders) * 100,
        'Cancellation Success Rate (%)': (cancellation_success / num_orders) * 100,
        'Avg Placement Latency (s)': sum(placement_latencies) / len(placement_latencies) if placement_latencies else 0,
        'Avg Cancellation Latency (s)': sum(cancellation_latencies) / len(cancellation_latencies) if cancellation_latencies else 0
    }
    print("\nPerformance Test Results:")
    display(pd.Series(metrics))

# Run test (uncomment when API keys are set)
# performance_test(exchanges[1], SYMBOL)


## Task 3: Position & PnL Monitoring
This task monitors a position’s details and unrealized profit/loss from a filled order. Requires a filled order ID.

# Example: Place a market order and monitor position
try:
    order_id = conn.place_order(SYMBOL, 'buy', 0.01, 'MARKET')
    print(f"Placed market order: {order_id}")
    time.sleep(2)  # Wait for the order to fill
    position = conn.get_position_from_order(order_id, SYMBOL)
    print("\nPosition Details:")
    display(pd.Series(position))
except Exception as e:
    print(f"Position error: {str(e)} (API keys required for trading)")



## Task 4: Universal Symbol Mapper
This task standardizes trading pair symbols (e.g., '1BONK-USD' to 'BONKUSD') across exchanges.

mapper = SymbolMapper()
test_symbols = ['1BONK-USD', 'BONK-USDT', 'BONK/USDC', 'BTC/USDT']
print("Symbol Standardization:")
results = {sym: mapper.standardize_symbol(sym) for sym in test_symbols}
display(pd.Series(results))




## Task 5: Historical Data Persistence
This task captures L2 order book snapshots every second for 10 minutes and saves them as Parquet files in AWS S3. Update `s3_bucket` with your bucket name.

# Initialize and run pipeline
try:
    pipeline = OrderBookPipeline('binance', SYMBOL, interval_seconds=1, s3_bucket='your-bucket-name')
    print("Starting data pipeline for 10 minutes...")
    pipeline.run(duration_minutes=10)
    print("Pipeline completed. Check S3 bucket for files in 'order_books/YYYY-MM-DD/BTCUSDT/'.")
except Exception as e:
    print(f"Pipeline error: {str(e)} (AWS credentials and bucket required)")


## Open-Ended Challenge: Architectural Review & Strategy Proposal
This section critiques the system’s design and proposes improvements for a production-grade setup.

### System Design & Scalability
**Critique**:
- **Rate Limits**: The code uses CCXT’s rate limiting, but fetching data every second (Task 5) could hit limits, especially with multiple exchanges. There’s no smart retry system.
- **Delays**: Calling APIs one-by-one for each exchange is slow, especially for Task 1’s best bid/ask across exchanges.
- **Crashes**: If the program stops during Task 5, unsaved data is lost.
- **Performance**: Calculating price impact for large trades with deep order books (500+ levels) can be slow.
- **Symbol Issues**: The symbol mapper doesn’t handle unusual pair formats well.

**Improvements for Production**:
- **Structure**: Build a web app with FastAPI to handle requests, use Celery to run tasks in the background, and deploy on Kubernetes to handle more users.
- **Faster Data**: Use WebSockets (CCXT’s `watch_` functions) to get live data instead of slow API calls.
- **Caching**: Store order books in Redis (a fast database) to avoid repeated API calls.
- **Reliability**: Run on multiple AWS servers; if one exchange fails, skip it automatically.
- **Monitoring**: Use tools like Prometheus to track performance and Grafana to show graphs of delays/errors.
- **Backtesting**: Use Airflow to schedule tests with stored data.

### Error Handling & Resilience
- **API Errors**: Retry failed API calls with a delay (e.g., wait longer each try). Separate temporary errors (like network issues) from permanent ones (like wrong keys).
- **Exchange Downtime**: Check if an exchange is down and skip it; use a backup data source like CoinGecko if all fail.
- **WebSocket Issues**: If using live data, reconnect automatically if the connection drops. Save the last data point to avoid gaps.
- **Consistency**: Before placing or cancelling orders, check their status to avoid mistakes. Regularly double-check positions with the exchange.
- **Testing**: Test the code with fake exchange responses to catch errors early.

This design makes the system fast, reliable, and easy to expand for new exchanges.

